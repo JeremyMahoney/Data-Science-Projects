{
 "cells": [
  {
   "cell_type": "markdown",
   "metadata": {},
   "source": [
    "# Predicting Car Prices"
   ]
  },
  {
   "cell_type": "markdown",
   "metadata": {},
   "source": [
    "The goal of this project is to use characteristics of cars to predict their prices. The dataset used contains 205 cars with 26 attributes each, and the dataset can be downloaded [here](https://archive.ics.uci.edu/ml/machine-learning-databases/autos/imports-85.data)."
   ]
  },
  {
   "cell_type": "code",
   "execution_count": 328,
   "metadata": {},
   "outputs": [],
   "source": [
    "import pandas as pd\n",
    "import numpy as np\n",
    "import matplotlib.pyplot as plt\n",
    "%matplotlib inline\n",
    "pd.options.display.max_rows = None\n",
    "pd.options.display.max_columns = None"
   ]
  },
  {
   "cell_type": "code",
   "execution_count": 329,
   "metadata": {},
   "outputs": [],
   "source": [
    "cars = pd.read_csv('/Users/jeremymahoney/data_science/datasets/car_attributes.data', header=None)"
   ]
  },
  {
   "cell_type": "code",
   "execution_count": 330,
   "metadata": {},
   "outputs": [
    {
     "data": {
      "text/html": [
       "<div>\n",
       "<style scoped>\n",
       "    .dataframe tbody tr th:only-of-type {\n",
       "        vertical-align: middle;\n",
       "    }\n",
       "\n",
       "    .dataframe tbody tr th {\n",
       "        vertical-align: top;\n",
       "    }\n",
       "\n",
       "    .dataframe thead th {\n",
       "        text-align: right;\n",
       "    }\n",
       "</style>\n",
       "<table border=\"1\" class=\"dataframe\">\n",
       "  <thead>\n",
       "    <tr style=\"text-align: right;\">\n",
       "      <th></th>\n",
       "      <th>0</th>\n",
       "      <th>1</th>\n",
       "      <th>2</th>\n",
       "      <th>3</th>\n",
       "      <th>4</th>\n",
       "      <th>5</th>\n",
       "      <th>6</th>\n",
       "      <th>7</th>\n",
       "      <th>8</th>\n",
       "      <th>9</th>\n",
       "      <th>10</th>\n",
       "      <th>11</th>\n",
       "      <th>12</th>\n",
       "      <th>13</th>\n",
       "      <th>14</th>\n",
       "      <th>15</th>\n",
       "      <th>16</th>\n",
       "      <th>17</th>\n",
       "      <th>18</th>\n",
       "      <th>19</th>\n",
       "      <th>20</th>\n",
       "      <th>21</th>\n",
       "      <th>22</th>\n",
       "      <th>23</th>\n",
       "      <th>24</th>\n",
       "      <th>25</th>\n",
       "    </tr>\n",
       "  </thead>\n",
       "  <tbody>\n",
       "    <tr>\n",
       "      <th>0</th>\n",
       "      <td>3</td>\n",
       "      <td>?</td>\n",
       "      <td>alfa-romero</td>\n",
       "      <td>gas</td>\n",
       "      <td>std</td>\n",
       "      <td>two</td>\n",
       "      <td>convertible</td>\n",
       "      <td>rwd</td>\n",
       "      <td>front</td>\n",
       "      <td>88.6</td>\n",
       "      <td>168.8</td>\n",
       "      <td>64.1</td>\n",
       "      <td>48.8</td>\n",
       "      <td>2548</td>\n",
       "      <td>dohc</td>\n",
       "      <td>four</td>\n",
       "      <td>130</td>\n",
       "      <td>mpfi</td>\n",
       "      <td>3.47</td>\n",
       "      <td>2.68</td>\n",
       "      <td>9.0</td>\n",
       "      <td>111</td>\n",
       "      <td>5000</td>\n",
       "      <td>21</td>\n",
       "      <td>27</td>\n",
       "      <td>13495</td>\n",
       "    </tr>\n",
       "    <tr>\n",
       "      <th>1</th>\n",
       "      <td>3</td>\n",
       "      <td>?</td>\n",
       "      <td>alfa-romero</td>\n",
       "      <td>gas</td>\n",
       "      <td>std</td>\n",
       "      <td>two</td>\n",
       "      <td>convertible</td>\n",
       "      <td>rwd</td>\n",
       "      <td>front</td>\n",
       "      <td>88.6</td>\n",
       "      <td>168.8</td>\n",
       "      <td>64.1</td>\n",
       "      <td>48.8</td>\n",
       "      <td>2548</td>\n",
       "      <td>dohc</td>\n",
       "      <td>four</td>\n",
       "      <td>130</td>\n",
       "      <td>mpfi</td>\n",
       "      <td>3.47</td>\n",
       "      <td>2.68</td>\n",
       "      <td>9.0</td>\n",
       "      <td>111</td>\n",
       "      <td>5000</td>\n",
       "      <td>21</td>\n",
       "      <td>27</td>\n",
       "      <td>16500</td>\n",
       "    </tr>\n",
       "    <tr>\n",
       "      <th>2</th>\n",
       "      <td>1</td>\n",
       "      <td>?</td>\n",
       "      <td>alfa-romero</td>\n",
       "      <td>gas</td>\n",
       "      <td>std</td>\n",
       "      <td>two</td>\n",
       "      <td>hatchback</td>\n",
       "      <td>rwd</td>\n",
       "      <td>front</td>\n",
       "      <td>94.5</td>\n",
       "      <td>171.2</td>\n",
       "      <td>65.5</td>\n",
       "      <td>52.4</td>\n",
       "      <td>2823</td>\n",
       "      <td>ohcv</td>\n",
       "      <td>six</td>\n",
       "      <td>152</td>\n",
       "      <td>mpfi</td>\n",
       "      <td>2.68</td>\n",
       "      <td>3.47</td>\n",
       "      <td>9.0</td>\n",
       "      <td>154</td>\n",
       "      <td>5000</td>\n",
       "      <td>19</td>\n",
       "      <td>26</td>\n",
       "      <td>16500</td>\n",
       "    </tr>\n",
       "    <tr>\n",
       "      <th>3</th>\n",
       "      <td>2</td>\n",
       "      <td>164</td>\n",
       "      <td>audi</td>\n",
       "      <td>gas</td>\n",
       "      <td>std</td>\n",
       "      <td>four</td>\n",
       "      <td>sedan</td>\n",
       "      <td>fwd</td>\n",
       "      <td>front</td>\n",
       "      <td>99.8</td>\n",
       "      <td>176.6</td>\n",
       "      <td>66.2</td>\n",
       "      <td>54.3</td>\n",
       "      <td>2337</td>\n",
       "      <td>ohc</td>\n",
       "      <td>four</td>\n",
       "      <td>109</td>\n",
       "      <td>mpfi</td>\n",
       "      <td>3.19</td>\n",
       "      <td>3.40</td>\n",
       "      <td>10.0</td>\n",
       "      <td>102</td>\n",
       "      <td>5500</td>\n",
       "      <td>24</td>\n",
       "      <td>30</td>\n",
       "      <td>13950</td>\n",
       "    </tr>\n",
       "    <tr>\n",
       "      <th>4</th>\n",
       "      <td>2</td>\n",
       "      <td>164</td>\n",
       "      <td>audi</td>\n",
       "      <td>gas</td>\n",
       "      <td>std</td>\n",
       "      <td>four</td>\n",
       "      <td>sedan</td>\n",
       "      <td>4wd</td>\n",
       "      <td>front</td>\n",
       "      <td>99.4</td>\n",
       "      <td>176.6</td>\n",
       "      <td>66.4</td>\n",
       "      <td>54.3</td>\n",
       "      <td>2824</td>\n",
       "      <td>ohc</td>\n",
       "      <td>five</td>\n",
       "      <td>136</td>\n",
       "      <td>mpfi</td>\n",
       "      <td>3.19</td>\n",
       "      <td>3.40</td>\n",
       "      <td>8.0</td>\n",
       "      <td>115</td>\n",
       "      <td>5500</td>\n",
       "      <td>18</td>\n",
       "      <td>22</td>\n",
       "      <td>17450</td>\n",
       "    </tr>\n",
       "  </tbody>\n",
       "</table>\n",
       "</div>"
      ],
      "text/plain": [
       "   0    1            2    3    4     5            6    7      8     9      10  \\\n",
       "0   3    ?  alfa-romero  gas  std   two  convertible  rwd  front  88.6  168.8   \n",
       "1   3    ?  alfa-romero  gas  std   two  convertible  rwd  front  88.6  168.8   \n",
       "2   1    ?  alfa-romero  gas  std   two    hatchback  rwd  front  94.5  171.2   \n",
       "3   2  164         audi  gas  std  four        sedan  fwd  front  99.8  176.6   \n",
       "4   2  164         audi  gas  std  four        sedan  4wd  front  99.4  176.6   \n",
       "\n",
       "     11    12    13    14    15   16    17    18    19    20   21    22  23  \\\n",
       "0  64.1  48.8  2548  dohc  four  130  mpfi  3.47  2.68   9.0  111  5000  21   \n",
       "1  64.1  48.8  2548  dohc  four  130  mpfi  3.47  2.68   9.0  111  5000  21   \n",
       "2  65.5  52.4  2823  ohcv   six  152  mpfi  2.68  3.47   9.0  154  5000  19   \n",
       "3  66.2  54.3  2337   ohc  four  109  mpfi  3.19  3.40  10.0  102  5500  24   \n",
       "4  66.4  54.3  2824   ohc  five  136  mpfi  3.19  3.40   8.0  115  5500  18   \n",
       "\n",
       "   24     25  \n",
       "0  27  13495  \n",
       "1  27  16500  \n",
       "2  26  16500  \n",
       "3  30  13950  \n",
       "4  22  17450  "
      ]
     },
     "execution_count": 330,
     "metadata": {},
     "output_type": "execute_result"
    }
   ],
   "source": [
    "cars.head()"
   ]
  },
  {
   "cell_type": "markdown",
   "metadata": {},
   "source": [
    "## Cleaning and Preliminary Feature Selection"
   ]
  },
  {
   "cell_type": "markdown",
   "metadata": {},
   "source": [
    "First, let's decide which column is the target and which columns would make good features.\n",
    "\n",
    "From the [documentation](https://archive.ics.uci.edu/ml/datasets/automobile), here is what each column represents:\n",
    "\n",
    "1. symboling: -3, -2, -1, 0, 1, 2, 3.\n",
    "2. normalized-losses: continuous from 65 to 256.\n",
    "3. make: alfa-romero, audi, bmw, chevrolet, dodge, honda, isuzu, jaguar, mazda, mercedes-benz, mercury, mitsubishi, nissan, peugot, plymouth, porsche, renault, saab, subaru, toyota, volkswagen, volvo\n",
    "4. fuel-type: diesel, gas.\n",
    "5. aspiration: std, turbo.\n",
    "6. num-of-doors: four, two.\n",
    "7. body-style: hardtop, wagon, sedan, hatchback, convertible.\n",
    "8. drive-wheels: 4wd, fwd, rwd.\n",
    "9. engine-location: front, rear.\n",
    "10. wheel-base: continuous from 86.6 120.9.\n",
    "11. length: continuous from 141.1 to 208.1.\n",
    "12. width: continuous from 60.3 to 72.3.\n",
    "13. height: continuous from 47.8 to 59.8.\n",
    "14. curb-weight: continuous from 1488 to 4066.\n",
    "15. engine-type: dohc, dohcv, l, ohc, ohcf, ohcv, rotor.\n",
    "16. num-of-cylinders: eight, five, four, six, three, twelve, two.\n",
    "17. engine-size: continuous from 61 to 326.\n",
    "18. fuel-system: 1bbl, 2bbl, 4bbl, idi, mfi, mpfi, spdi, spfi.\n",
    "19. bore: continuous from 2.54 to 3.94.\n",
    "20. stroke: continuous from 2.07 to 4.17.\n",
    "21. compression-ratio: continuous from 7 to 23.\n",
    "22. horsepower: continuous from 48 to 288.\n",
    "23. peak-rpm: continuous from 4150 to 6600.\n",
    "24. city-mpg: continuous from 13 to 49.\n",
    "25. highway-mpg: continuous from 16 to 54.\n",
    "26. price: continuous from 5118 to 45400.\n",
    "\n",
    "Because the goal of this project is to use attributes to predict the price of a car, the target column is column 26, which represents the price.\n",
    "\n",
    "For this project, we'll focus on just using the numeric columns as features. Some good numeric feature columns to try could be normalized losses (2), length (11), width (12), height (13), number of cylinders (16), engine size (17), horsepower (22), peak rpm (23), city mpg (24), and highway mpg (25).\n",
    "\n",
    "We'll trim down the dataset to include only these columns that seem like good features."
   ]
  },
  {
   "cell_type": "code",
   "execution_count": 331,
   "metadata": {
    "scrolled": true
   },
   "outputs": [
    {
     "data": {
      "text/html": [
       "<div>\n",
       "<style scoped>\n",
       "    .dataframe tbody tr th:only-of-type {\n",
       "        vertical-align: middle;\n",
       "    }\n",
       "\n",
       "    .dataframe tbody tr th {\n",
       "        vertical-align: top;\n",
       "    }\n",
       "\n",
       "    .dataframe thead th {\n",
       "        text-align: right;\n",
       "    }\n",
       "</style>\n",
       "<table border=\"1\" class=\"dataframe\">\n",
       "  <thead>\n",
       "    <tr style=\"text-align: right;\">\n",
       "      <th></th>\n",
       "      <th>normalized_losses</th>\n",
       "      <th>length</th>\n",
       "      <th>width</th>\n",
       "      <th>height</th>\n",
       "      <th>cylinders</th>\n",
       "      <th>engine_size</th>\n",
       "      <th>horsepower</th>\n",
       "      <th>peak_rpm</th>\n",
       "      <th>city_mpg</th>\n",
       "      <th>highway_mpg</th>\n",
       "      <th>price</th>\n",
       "    </tr>\n",
       "  </thead>\n",
       "  <tbody>\n",
       "    <tr>\n",
       "      <th>0</th>\n",
       "      <td>NaN</td>\n",
       "      <td>168.8</td>\n",
       "      <td>64.1</td>\n",
       "      <td>48.8</td>\n",
       "      <td>4</td>\n",
       "      <td>130</td>\n",
       "      <td>111</td>\n",
       "      <td>5000</td>\n",
       "      <td>21</td>\n",
       "      <td>27</td>\n",
       "      <td>13495</td>\n",
       "    </tr>\n",
       "    <tr>\n",
       "      <th>1</th>\n",
       "      <td>NaN</td>\n",
       "      <td>168.8</td>\n",
       "      <td>64.1</td>\n",
       "      <td>48.8</td>\n",
       "      <td>4</td>\n",
       "      <td>130</td>\n",
       "      <td>111</td>\n",
       "      <td>5000</td>\n",
       "      <td>21</td>\n",
       "      <td>27</td>\n",
       "      <td>16500</td>\n",
       "    </tr>\n",
       "    <tr>\n",
       "      <th>2</th>\n",
       "      <td>NaN</td>\n",
       "      <td>171.2</td>\n",
       "      <td>65.5</td>\n",
       "      <td>52.4</td>\n",
       "      <td>6</td>\n",
       "      <td>152</td>\n",
       "      <td>154</td>\n",
       "      <td>5000</td>\n",
       "      <td>19</td>\n",
       "      <td>26</td>\n",
       "      <td>16500</td>\n",
       "    </tr>\n",
       "    <tr>\n",
       "      <th>3</th>\n",
       "      <td>164</td>\n",
       "      <td>176.6</td>\n",
       "      <td>66.2</td>\n",
       "      <td>54.3</td>\n",
       "      <td>4</td>\n",
       "      <td>109</td>\n",
       "      <td>102</td>\n",
       "      <td>5500</td>\n",
       "      <td>24</td>\n",
       "      <td>30</td>\n",
       "      <td>13950</td>\n",
       "    </tr>\n",
       "    <tr>\n",
       "      <th>4</th>\n",
       "      <td>164</td>\n",
       "      <td>176.6</td>\n",
       "      <td>66.4</td>\n",
       "      <td>54.3</td>\n",
       "      <td>5</td>\n",
       "      <td>136</td>\n",
       "      <td>115</td>\n",
       "      <td>5500</td>\n",
       "      <td>18</td>\n",
       "      <td>22</td>\n",
       "      <td>17450</td>\n",
       "    </tr>\n",
       "  </tbody>\n",
       "</table>\n",
       "</div>"
      ],
      "text/plain": [
       "  normalized_losses  length  width  height  cylinders  engine_size horsepower  \\\n",
       "0               NaN   168.8   64.1    48.8          4          130        111   \n",
       "1               NaN   168.8   64.1    48.8          4          130        111   \n",
       "2               NaN   171.2   65.5    52.4          6          152        154   \n",
       "3               164   176.6   66.2    54.3          4          109        102   \n",
       "4               164   176.6   66.4    54.3          5          136        115   \n",
       "\n",
       "  peak_rpm  city_mpg  highway_mpg  price  \n",
       "0     5000        21           27  13495  \n",
       "1     5000        21           27  16500  \n",
       "2     5000        19           26  16500  \n",
       "3     5500        24           30  13950  \n",
       "4     5500        18           22  17450  "
      ]
     },
     "execution_count": 331,
     "metadata": {},
     "output_type": "execute_result"
    }
   ],
   "source": [
    "cars.columns = cars.columns + 1\n",
    "cars = cars.loc[:, [2, 11, 12, 13, 16, 17, 22, 23, 24, 25, 26]]\n",
    "cars[16] = cars[16].map({'two':2, 'three':3, 'four':4, 'five':5, 'six':6, 'eight':8, 'twelve':12})\n",
    "cars.columns = ['normalized_losses', 'length', 'width', 'height', 'cylinders', 'engine_size', 'horsepower',\n",
    "               'peak_rpm', 'city_mpg', 'highway_mpg', 'price']\n",
    "cars = cars.replace(to_replace='?', value=np.nan)\n",
    "cars.head()"
   ]
  },
  {
   "cell_type": "markdown",
   "metadata": {},
   "source": [
    "It's generally important to avoid columns with missing values for predictive modeling, so now we'll analyze the dataset to locate columns with missing values."
   ]
  },
  {
   "cell_type": "code",
   "execution_count": 332,
   "metadata": {},
   "outputs": [
    {
     "name": "stdout",
     "output_type": "stream",
     "text": [
      "205\n",
      "<class 'pandas.core.frame.DataFrame'>\n",
      "RangeIndex: 205 entries, 0 to 204\n",
      "Data columns (total 11 columns):\n",
      " #   Column             Non-Null Count  Dtype  \n",
      "---  ------             --------------  -----  \n",
      " 0   normalized_losses  164 non-null    object \n",
      " 1   length             205 non-null    float64\n",
      " 2   width              205 non-null    float64\n",
      " 3   height             205 non-null    float64\n",
      " 4   cylinders          205 non-null    int64  \n",
      " 5   engine_size        205 non-null    int64  \n",
      " 6   horsepower         203 non-null    object \n",
      " 7   peak_rpm           203 non-null    object \n",
      " 8   city_mpg           205 non-null    int64  \n",
      " 9   highway_mpg        205 non-null    int64  \n",
      " 10  price              201 non-null    object \n",
      "dtypes: float64(3), int64(4), object(4)\n",
      "memory usage: 17.7+ KB\n"
     ]
    }
   ],
   "source": [
    "print(len(cars))\n",
    "cars.info()"
   ]
  },
  {
   "cell_type": "markdown",
   "metadata": {},
   "source": [
    "This chart provides several important pieces of information:\n",
    "* For four cars, the price column is null, so we'll drop those cars.\n",
    "* Almost 1 of 4 cars in the dataset doesn't have a value for the normalized losses column. Because this column isn't essential to our classification, we'll drop it for now.\n",
    "* There are several more columns with a few missing cars, but there are few enough cars in these columns to just drop these cars.\n",
    "* Not every column is numeric, so we'll change each column to numeric."
   ]
  },
  {
   "cell_type": "code",
   "execution_count": 333,
   "metadata": {
    "scrolled": true
   },
   "outputs": [
    {
     "name": "stdout",
     "output_type": "stream",
     "text": [
      "<class 'pandas.core.frame.DataFrame'>\n",
      "Int64Index: 199 entries, 0 to 204\n",
      "Data columns (total 10 columns):\n",
      " #   Column       Non-Null Count  Dtype  \n",
      "---  ------       --------------  -----  \n",
      " 0   length       199 non-null    float64\n",
      " 1   width        199 non-null    float64\n",
      " 2   height       199 non-null    float64\n",
      " 3   cylinders    199 non-null    float64\n",
      " 4   engine_size  199 non-null    float64\n",
      " 5   horsepower   199 non-null    float64\n",
      " 6   peak_rpm     199 non-null    float64\n",
      " 7   city_mpg     199 non-null    float64\n",
      " 8   highway_mpg  199 non-null    float64\n",
      " 9   price        199 non-null    float64\n",
      "dtypes: float64(10)\n",
      "memory usage: 17.1 KB\n"
     ]
    },
    {
     "data": {
      "text/html": [
       "<div>\n",
       "<style scoped>\n",
       "    .dataframe tbody tr th:only-of-type {\n",
       "        vertical-align: middle;\n",
       "    }\n",
       "\n",
       "    .dataframe tbody tr th {\n",
       "        vertical-align: top;\n",
       "    }\n",
       "\n",
       "    .dataframe thead th {\n",
       "        text-align: right;\n",
       "    }\n",
       "</style>\n",
       "<table border=\"1\" class=\"dataframe\">\n",
       "  <thead>\n",
       "    <tr style=\"text-align: right;\">\n",
       "      <th></th>\n",
       "      <th>length</th>\n",
       "      <th>width</th>\n",
       "      <th>height</th>\n",
       "      <th>cylinders</th>\n",
       "      <th>engine_size</th>\n",
       "      <th>horsepower</th>\n",
       "      <th>peak_rpm</th>\n",
       "      <th>city_mpg</th>\n",
       "      <th>highway_mpg</th>\n",
       "      <th>price</th>\n",
       "    </tr>\n",
       "  </thead>\n",
       "  <tbody>\n",
       "    <tr>\n",
       "      <th>0</th>\n",
       "      <td>168.8</td>\n",
       "      <td>64.1</td>\n",
       "      <td>48.8</td>\n",
       "      <td>4.0</td>\n",
       "      <td>130.0</td>\n",
       "      <td>111.0</td>\n",
       "      <td>5000.0</td>\n",
       "      <td>21.0</td>\n",
       "      <td>27.0</td>\n",
       "      <td>13495.0</td>\n",
       "    </tr>\n",
       "    <tr>\n",
       "      <th>1</th>\n",
       "      <td>168.8</td>\n",
       "      <td>64.1</td>\n",
       "      <td>48.8</td>\n",
       "      <td>4.0</td>\n",
       "      <td>130.0</td>\n",
       "      <td>111.0</td>\n",
       "      <td>5000.0</td>\n",
       "      <td>21.0</td>\n",
       "      <td>27.0</td>\n",
       "      <td>16500.0</td>\n",
       "    </tr>\n",
       "    <tr>\n",
       "      <th>2</th>\n",
       "      <td>171.2</td>\n",
       "      <td>65.5</td>\n",
       "      <td>52.4</td>\n",
       "      <td>6.0</td>\n",
       "      <td>152.0</td>\n",
       "      <td>154.0</td>\n",
       "      <td>5000.0</td>\n",
       "      <td>19.0</td>\n",
       "      <td>26.0</td>\n",
       "      <td>16500.0</td>\n",
       "    </tr>\n",
       "    <tr>\n",
       "      <th>3</th>\n",
       "      <td>176.6</td>\n",
       "      <td>66.2</td>\n",
       "      <td>54.3</td>\n",
       "      <td>4.0</td>\n",
       "      <td>109.0</td>\n",
       "      <td>102.0</td>\n",
       "      <td>5500.0</td>\n",
       "      <td>24.0</td>\n",
       "      <td>30.0</td>\n",
       "      <td>13950.0</td>\n",
       "    </tr>\n",
       "    <tr>\n",
       "      <th>4</th>\n",
       "      <td>176.6</td>\n",
       "      <td>66.4</td>\n",
       "      <td>54.3</td>\n",
       "      <td>5.0</td>\n",
       "      <td>136.0</td>\n",
       "      <td>115.0</td>\n",
       "      <td>5500.0</td>\n",
       "      <td>18.0</td>\n",
       "      <td>22.0</td>\n",
       "      <td>17450.0</td>\n",
       "    </tr>\n",
       "  </tbody>\n",
       "</table>\n",
       "</div>"
      ],
      "text/plain": [
       "   length  width  height  cylinders  engine_size  horsepower  peak_rpm  \\\n",
       "0   168.8   64.1    48.8        4.0        130.0       111.0    5000.0   \n",
       "1   168.8   64.1    48.8        4.0        130.0       111.0    5000.0   \n",
       "2   171.2   65.5    52.4        6.0        152.0       154.0    5000.0   \n",
       "3   176.6   66.2    54.3        4.0        109.0       102.0    5500.0   \n",
       "4   176.6   66.4    54.3        5.0        136.0       115.0    5500.0   \n",
       "\n",
       "   city_mpg  highway_mpg    price  \n",
       "0      21.0         27.0  13495.0  \n",
       "1      21.0         27.0  16500.0  \n",
       "2      19.0         26.0  16500.0  \n",
       "3      24.0         30.0  13950.0  \n",
       "4      18.0         22.0  17450.0  "
      ]
     },
     "execution_count": 333,
     "metadata": {},
     "output_type": "execute_result"
    }
   ],
   "source": [
    "cars = cars.drop(axis=1, labels='normalized_losses')\n",
    "cars = cars.dropna(axis=0)\n",
    "cars = cars.astype('float64')\n",
    "cars.info()\n",
    "cars.head()"
   ]
  },
  {
   "cell_type": "markdown",
   "metadata": {},
   "source": [
    "Finally, we'll normalize the values in each feature column so that they range from 0 to 1, with 0.5 as the mean and 0.1 as the standard deviation. This normalization allows the algorithm to judge distances between features based on the features' actual variability rather than the size of the numbers associated with the features."
   ]
  },
  {
   "cell_type": "code",
   "execution_count": 334,
   "metadata": {},
   "outputs": [
    {
     "data": {
      "text/html": [
       "<div>\n",
       "<style scoped>\n",
       "    .dataframe tbody tr th:only-of-type {\n",
       "        vertical-align: middle;\n",
       "    }\n",
       "\n",
       "    .dataframe tbody tr th {\n",
       "        vertical-align: top;\n",
       "    }\n",
       "\n",
       "    .dataframe thead th {\n",
       "        text-align: right;\n",
       "    }\n",
       "</style>\n",
       "<table border=\"1\" class=\"dataframe\">\n",
       "  <thead>\n",
       "    <tr style=\"text-align: right;\">\n",
       "      <th></th>\n",
       "      <th>length</th>\n",
       "      <th>width</th>\n",
       "      <th>height</th>\n",
       "      <th>cylinders</th>\n",
       "      <th>engine_size</th>\n",
       "      <th>horsepower</th>\n",
       "      <th>peak_rpm</th>\n",
       "      <th>city_mpg</th>\n",
       "      <th>highway_mpg</th>\n",
       "      <th>price</th>\n",
       "    </tr>\n",
       "  </thead>\n",
       "  <tbody>\n",
       "    <tr>\n",
       "      <th>0</th>\n",
       "      <td>0.456747</td>\n",
       "      <td>0.415565</td>\n",
       "      <td>0.296657</td>\n",
       "      <td>0.465528</td>\n",
       "      <td>0.507606</td>\n",
       "      <td>0.520246</td>\n",
       "      <td>0.475529</td>\n",
       "      <td>0.434887</td>\n",
       "      <td>0.446223</td>\n",
       "      <td>13495.0</td>\n",
       "    </tr>\n",
       "    <tr>\n",
       "      <th>1</th>\n",
       "      <td>0.456747</td>\n",
       "      <td>0.415565</td>\n",
       "      <td>0.296657</td>\n",
       "      <td>0.465528</td>\n",
       "      <td>0.507606</td>\n",
       "      <td>0.520246</td>\n",
       "      <td>0.475529</td>\n",
       "      <td>0.434887</td>\n",
       "      <td>0.446223</td>\n",
       "      <td>16500.0</td>\n",
       "    </tr>\n",
       "    <tr>\n",
       "      <th>2</th>\n",
       "      <td>0.476145</td>\n",
       "      <td>0.481885</td>\n",
       "      <td>0.443774</td>\n",
       "      <td>0.653470</td>\n",
       "      <td>0.560297</td>\n",
       "      <td>0.634748</td>\n",
       "      <td>0.475529</td>\n",
       "      <td>0.403888</td>\n",
       "      <td>0.431623</td>\n",
       "      <td>16500.0</td>\n",
       "    </tr>\n",
       "    <tr>\n",
       "      <th>3</th>\n",
       "      <td>0.519793</td>\n",
       "      <td>0.515044</td>\n",
       "      <td>0.521419</td>\n",
       "      <td>0.465528</td>\n",
       "      <td>0.457310</td>\n",
       "      <td>0.496280</td>\n",
       "      <td>0.579583</td>\n",
       "      <td>0.481385</td>\n",
       "      <td>0.490022</td>\n",
       "      <td>13950.0</td>\n",
       "    </tr>\n",
       "    <tr>\n",
       "      <th>4</th>\n",
       "      <td>0.519793</td>\n",
       "      <td>0.524519</td>\n",
       "      <td>0.521419</td>\n",
       "      <td>0.559499</td>\n",
       "      <td>0.521977</td>\n",
       "      <td>0.530897</td>\n",
       "      <td>0.579583</td>\n",
       "      <td>0.388388</td>\n",
       "      <td>0.373224</td>\n",
       "      <td>17450.0</td>\n",
       "    </tr>\n",
       "  </tbody>\n",
       "</table>\n",
       "</div>"
      ],
      "text/plain": [
       "     length     width    height  cylinders  engine_size  horsepower  peak_rpm  \\\n",
       "0  0.456747  0.415565  0.296657   0.465528     0.507606    0.520246  0.475529   \n",
       "1  0.456747  0.415565  0.296657   0.465528     0.507606    0.520246  0.475529   \n",
       "2  0.476145  0.481885  0.443774   0.653470     0.560297    0.634748  0.475529   \n",
       "3  0.519793  0.515044  0.521419   0.465528     0.457310    0.496280  0.579583   \n",
       "4  0.519793  0.524519  0.521419   0.559499     0.521977    0.530897  0.579583   \n",
       "\n",
       "   city_mpg  highway_mpg    price  \n",
       "0  0.434887     0.446223  13495.0  \n",
       "1  0.434887     0.446223  16500.0  \n",
       "2  0.403888     0.431623  16500.0  \n",
       "3  0.481385     0.490022  13950.0  \n",
       "4  0.388388     0.373224  17450.0  "
      ]
     },
     "execution_count": 334,
     "metadata": {},
     "output_type": "execute_result"
    }
   ],
   "source": [
    "def normalize(column):\n",
    "    z_scores = (column - column.mean())/column.std()\n",
    "    multiplied = z_scores * 0.1\n",
    "    final = multiplied + 0.5\n",
    "    return final\n",
    "cars.loc[:, (cars.columns!='price')] = cars.loc[:, (cars.columns!='price')].apply(normalize, axis=0)\n",
    "cars.head()"
   ]
  },
  {
   "cell_type": "markdown",
   "metadata": {},
   "source": [
    "## Univariate Model"
   ]
  },
  {
   "cell_type": "markdown",
   "metadata": {},
   "source": [
    "We'll begin by training a univariate K-Nearest Neighbors machine learning model to predict the price of cars based on a single feature."
   ]
  },
  {
   "cell_type": "code",
   "execution_count": 335,
   "metadata": {
    "scrolled": true
   },
   "outputs": [
    {
     "data": {
      "text/plain": [
       "<BarContainer object of 9 artists>"
      ]
     },
     "execution_count": 335,
     "metadata": {},
     "output_type": "execute_result"
    },
    {
     "data": {
      "image/png": "[encoded data removed]",
      "text/plain": [
       "<Figure size 432x288 with 1 Axes>"
      ]
     },
     "metadata": {
      "needs_background": "light"
     },
     "output_type": "display_data"
    }
   ],
   "source": [
    "from sklearn.neighbors import KNeighborsRegressor\n",
    "from sklearn.metrics import mean_squared_error\n",
    "def knn_train_test(feature, target, df, k):\n",
    "    train_df = df.iloc[:(int(len(df)*0.75)), :]\n",
    "    test_df = df.iloc[(int(len(df)*0.75)):, :]\n",
    "    knn = KNeighborsRegressor(n_neighbors=k)\n",
    "    knn.fit(train_df[[feature]], train_df[target])\n",
    "    predictions = knn.predict(test_df[[feature]])\n",
    "    mse = mean_squared_error(predictions, test_df[target])\n",
    "    rmse = mse**(1/2)\n",
    "    return rmse\n",
    "rmses = {}\n",
    "for column in cars.columns[:(len(cars.columns)-1)]:\n",
    "    rmses[column] = knn_train_test(column, 'price', cars, 5)\n",
    "plt.barh(y=list(rmses.keys()), width=rmses.values())"
   ]
  },
  {
   "cell_type": "markdown",
   "metadata": {},
   "source": [
    "The highway mpg of a vehicle is the single best predictor of its price in this dataset, followed closely by engine size, city mpg, and horsepower. Let's investigate this more."
   ]
  },
  {
   "cell_type": "code",
   "execution_count": 336,
   "metadata": {},
   "outputs": [
    {
     "data": {
      "image/png": "[encoded data removed]",
      "text/plain": [
       "<Figure size 864x720 with 4 Axes>"
      ]
     },
     "metadata": {
      "needs_background": "light"
     },
     "output_type": "display_data"
    }
   ],
   "source": [
    "fig = plt.figure(figsize=(12, 10))\n",
    "highway_mpg = fig.add_subplot(2, 2, 1)\n",
    "city_mpg = fig.add_subplot(2, 2, 2)\n",
    "engine_size = fig.add_subplot(2, 2, 3)\n",
    "horsepower = fig.add_subplot(2, 2, 4)\n",
    "highway_mpg.scatter(cars['highway_mpg'], cars['price'])\n",
    "highway_mpg.set_title('Highway MPG')\n",
    "city_mpg.scatter(cars['city_mpg'], cars['price'])\n",
    "city_mpg.set_title('City MPG')\n",
    "engine_size.scatter(cars['engine_size'], cars['price'])\n",
    "engine_size.set_title('Engine Size')\n",
    "horsepower.scatter(cars['horsepower'], cars['price'])\n",
    "horsepower.set_title('Horsepower')\n",
    "fig.tight_layout(pad=3.0)\n",
    "plt.show()"
   ]
  },
  {
   "cell_type": "markdown",
   "metadata": {},
   "source": [
    "Interestingly, there is a negative correlation between mpg and price. Given that there is a positive correlation between engine size/horsepower and price, this makes sense. This suggests that most of the cars in this dataset are older models that were made before hybrid cars became popular. The documentation says that one of the data sources was a book published in 1985, which could explain the presence of older car models."
   ]
  },
  {
   "cell_type": "markdown",
   "metadata": {},
   "source": [
    "Now, we'll briefly experiment with various k values on the univariate model to see which one tends to give the smallest root mean squared error value."
   ]
  },
  {
   "cell_type": "code",
   "execution_count": 337,
   "metadata": {},
   "outputs": [
    {
     "data": {
      "image/png": "[encoded data removed]",
      "text/plain": [
       "<Figure size 432x288 with 1 Axes>"
      ]
     },
     "metadata": {
      "needs_background": "light"
     },
     "output_type": "display_data"
    },
    {
     "data": {
      "image/png": "[encoded data removed]",
      "text/plain": [
       "<Figure size 432x288 with 1 Axes>"
      ]
     },
     "metadata": {
      "needs_background": "light"
     },
     "output_type": "display_data"
    }
   ],
   "source": [
    "for i in [11, 26]:\n",
    "    kvalues = list(range(1,i))\n",
    "    colors = ['red', 'orange', 'brown', 'green']\n",
    "    best_cols = ['highway_mpg', 'city_mpg', 'engine_size', 'horsepower']\n",
    "    for count, col in enumerate(best_cols):\n",
    "        k_errors = {}\n",
    "        for k in kvalues:\n",
    "            k_errors[k] = knn_train_test(col, 'price', cars, k)\n",
    "        plt.scatter(k_errors.keys(), k_errors.values(), color=colors[count], label=col)\n",
    "    plt.legend()\n",
    "    plt.show()"
   ]
  },
  {
   "cell_type": "markdown",
   "metadata": {},
   "source": [
    "The error tends to initially dip near the k value of 5 or 6. More robust cross validation will be necesary to analyze the effectiveness of higher k values."
   ]
  },
  {
   "cell_type": "markdown",
   "metadata": {},
   "source": [
    "## Multivariate Features & K-Fold Cross Validation"
   ]
  },
  {
   "cell_type": "markdown",
   "metadata": {},
   "source": [
    "Now, let's make two modifications to the knn_train_test() function:\n",
    "* Allow the function to work with multiple features\n",
    "* Use k-fold cross validation instead of simple train/test validation"
   ]
  },
  {
   "cell_type": "code",
   "execution_count": 390,
   "metadata": {},
   "outputs": [],
   "source": [
    "from sklearn.model_selection import cross_val_score, KFold\n",
    "\n",
    "def knn_train_test_kfold(features: list, target, df, k):\n",
    "    knn = KNeighborsRegressor(n_neighbors=k)\n",
    "    kf = KFold(10)\n",
    "    rmses = cross_val_score(knn, df[features], df['price'], scoring='neg_root_mean_squared_error', cv=kf)\n",
    "    return np.mean(np.absolute(rmses))"
   ]
  },
  {
   "cell_type": "markdown",
   "metadata": {},
   "source": [
    "Let's test this using the features, in order from best to worst, to see which combination is most effective. We'll stick with the default k value for now."
   ]
  },
  {
   "cell_type": "code",
   "execution_count": 391,
   "metadata": {},
   "outputs": [
    {
     "data": {
      "text/plain": [
       "<matplotlib.collections.PathCollection at 0x1039bf5d0>"
      ]
     },
     "execution_count": 391,
     "metadata": {},
     "output_type": "execute_result"
    },
    {
     "data": {
      "image/png": "[encoded data removed]",
      "text/plain": [
       "<Figure size 432x288 with 1 Axes>"
      ]
     },
     "metadata": {
      "needs_background": "light"
     },
     "output_type": "display_data"
    }
   ],
   "source": [
    "features = ['highway_mpg', 'city_mpg', 'engine_size', 'horsepower', 'width', 'cylinders', 'height',\n",
    "                'length', 'peak_rpm']\n",
    "multi_rmses = {}\n",
    "for i in list(range(2,(len(features)+1))):\n",
    "    multi_rmses[i] = knn_train_test(features[:i], 'price', cars, 5)\n",
    "multi_rmses\n",
    "plt.scatter(multi_rmses.keys(), multi_rmses.values())"
   ]
  },
  {
   "cell_type": "markdown",
   "metadata": {},
   "source": [
    "It looks like using the top 4 features provides the greatest accuracy, followed by using the top 5 and 6 features."
   ]
  },
  {
   "cell_type": "markdown",
   "metadata": {},
   "source": [
    "## Hyperparamater Optimization"
   ]
  },
  {
   "cell_type": "markdown",
   "metadata": {},
   "source": [
    "Now, we'll optimize the k value for the top 3 models from the last step. "
   ]
  },
  {
   "cell_type": "code",
   "execution_count": 392,
   "metadata": {},
   "outputs": [
    {
     "data": {
      "image/png": "[encoded data removed]",
      "text/plain": [
       "<Figure size 432x288 with 1 Axes>"
      ]
     },
     "metadata": {
      "needs_background": "light"
     },
     "output_type": "display_data"
    },
    {
     "data": {
      "image/png": "[encoded data removed]",
      "text/plain": [
       "<Figure size 432x288 with 1 Axes>"
      ]
     },
     "metadata": {
      "needs_background": "light"
     },
     "output_type": "display_data"
    },
    {
     "data": {
      "image/png": "[encoded data removed]",
      "text/plain": [
       "<Figure size 432x288 with 1 Axes>"
      ]
     },
     "metadata": {
      "needs_background": "light"
     },
     "output_type": "display_data"
    }
   ],
   "source": [
    "kvalues = list(range(1,26))\n",
    "multi_k_rmses = {}\n",
    "\n",
    "for feature_n in [4, 5, 6]:\n",
    "    multi_k_rmses[feature_n] = {}\n",
    "    for k in kvalues:\n",
    "        multi_k_rmses[feature_n][k] = knn_train_test(features[:feature_n], 'price', cars, k)\n",
    "    plt.scatter(multi_k_rmses[feature_n].keys(), multi_k_rmses[feature_n].values())\n",
    "    plt.title('RMSE vs k value for {} feature model'.format(feature_n))\n",
    "    plt.show()"
   ]
  },
  {
   "cell_type": "markdown",
   "metadata": {},
   "source": [
    "For the 4 feature model, a k value of 4 is optimal."
   ]
  },
  {
   "cell_type": "code",
   "execution_count": 397,
   "metadata": {},
   "outputs": [
    {
     "data": {
      "text/plain": [
       "0.2501761423481144"
      ]
     },
     "execution_count": 397,
     "metadata": {},
     "output_type": "execute_result"
    }
   ],
   "source": [
    "lowest_rmse = knn_train_test(features[:4], 'price', cars, 4)\n",
    "error = lowest_rmse/np.mean(cars['price'])\n",
    "error"
   ]
  },
  {
   "cell_type": "markdown",
   "metadata": {},
   "source": [
    "## Conclusion"
   ]
  },
  {
   "cell_type": "markdown",
   "metadata": {},
   "source": [
    "In this project, we determined that using this dataset, a K-Nearest Neighbors model that uses a k value of 4 and the highway MPG, city MPG, horsepower, and engine size attributes of a car is roughly 75% accurate in predicting the price of a car. More steps to try to improve the model could include the following:\n",
    "* Experiment with other numerical columns in the KNN algorithm\n",
    "* Incorporate categorical or binary values using a different algorithm"
   ]
  }
 ],
 "metadata": {
  "kernelspec": {
   "display_name": "Python 3",
   "language": "python",
   "name": "python3"
  },
  "language_info": {
   "codemirror_mode": {
    "name": "ipython",
    "version": 3
   },
   "file_extension": ".py",
   "mimetype": "text/x-python",
   "name": "python",
   "nbconvert_exporter": "python",
   "pygments_lexer": "ipython3",
   "version": "3.7.6"
  }
 },
 "nbformat": 4,
 "nbformat_minor": 4
}
